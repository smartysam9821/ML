{
 "cells": [
  {
   "cell_type": "code",
   "execution_count": 1,
   "metadata": {},
   "outputs": [],
   "source": [
    "import numpy as np\n",
    "import os\n",
    "import pandas as pd\n",
    "from sklearn.feature_extraction.text import CountVectorizer, TfidfVectorizer\n",
    "from sklearn.metrics.classification import classification_report, accuracy_score\n",
    "from sklearn.model_selection import cross_val_predict\n",
    "from nltk.corpus import stopwords\n"
   ]
  },
  {
   "cell_type": "code",
   "execution_count": 2,
   "metadata": {},
   "outputs": [],
   "source": [
    "stop_words=stopwords.words('english')"
   ]
  },
  {
   "cell_type": "code",
   "execution_count": 3,
   "metadata": {},
   "outputs": [],
   "source": [
    "trainX =np.array([])\n",
    "labels = []\n",
    "path = '../Downloads/C50train/'\n",
    "authors = os.listdir(path)[:10]; \n",
    "authors = [i for i in authors if '.DS_Store' not in i]\n",
    "for auth in authors:\n",
    "    if authors != '.DS_Store':\n",
    "        files = os.listdir(path + auth + '/');\n",
    "        tmpX, tmpY = np.array([]), []\n",
    "        for file in files:\n",
    "            f = open(os.path.join(path, auth, file), 'r')\n",
    "            data = f.read().replace('\\n', ' ')\n",
    "            tmpX = np.append(tmpX,data)\n",
    "            tmpY = tmpY + [auth]\n",
    "            f.close()\n",
    "    trainX = np.append(trainX, tmpX)\n",
    "    labels = labels + tmpY"
   ]
  },
  {
   "cell_type": "code",
   "execution_count": 4,
   "metadata": {},
   "outputs": [
    {
     "data": {
      "text/plain": [
       "CountVectorizer(analyzer='word', binary=False, decode_error='strict',\n",
       "                dtype=<class 'numpy.int64'>, encoding='utf-8', input='content',\n",
       "                lowercase=True, max_df=1.0, max_features=None, min_df=1,\n",
       "                ngram_range=(1, 1), preprocessor=None, stop_words=None,\n",
       "                strip_accents=None, token_pattern='(?u)\\\\b\\\\w\\\\w+\\\\b',\n",
       "                tokenizer=None, vocabulary=None)"
      ]
     },
     "execution_count": 4,
     "metadata": {},
     "output_type": "execute_result"
    }
   ],
   "source": [
    "# initializing Count Vector\n",
    "vect = CountVectorizer()\n",
    "vect"
   ]
  },
  {
   "cell_type": "code",
   "execution_count": null,
   "metadata": {},
   "outputs": [],
   "source": []
  },
  {
   "cell_type": "code",
   "execution_count": 5,
   "metadata": {},
   "outputs": [],
   "source": [
    "# Split in to train and test data\n",
    "from sklearn.model_selection import train_test_split\n",
    "X_train, X_test, y_train, y_test = train_test_split(trainX, labels, train_size = 0.8)\n"
   ]
  },
  {
   "cell_type": "code",
   "execution_count": 6,
   "metadata": {},
   "outputs": [
    {
     "data": {
      "text/plain": [
       "0    Shareholders in British property company Greyc...\n",
       "1    Equity Residential Properties Trust, a real es...\n",
       "2    The Montreal Canadiens, the most storied franc...\n",
       "3    Protesters hit Toronto streets on Friday, para...\n",
       "4    Britain's Tim Henman emerged on Friday as the ...\n",
       "dtype: object"
      ]
     },
     "execution_count": 6,
     "metadata": {},
     "output_type": "execute_result"
    }
   ],
   "source": [
    "# converting into pandas series\n",
    "X_train = pd.Series(X_train)\n",
    "X_test = pd.Series(X_test)\n",
    "X_train.head()\n"
   ]
  },
  {
   "cell_type": "code",
   "execution_count": 7,
   "metadata": {},
   "outputs": [
    {
     "data": {
      "text/plain": [
       "CountVectorizer(analyzer='word', binary=False, decode_error='strict',\n",
       "                dtype=<class 'numpy.int64'>, encoding='utf-8', input='content',\n",
       "                lowercase=True, max_df=1.0, max_features=None, min_df=1,\n",
       "                ngram_range=(1, 1), preprocessor=None, stop_words=None,\n",
       "                strip_accents=None, token_pattern='(?u)\\\\b\\\\w\\\\w+\\\\b',\n",
       "                tokenizer=None, vocabulary=None)"
      ]
     },
     "execution_count": 7,
     "metadata": {},
     "output_type": "execute_result"
    }
   ],
   "source": [
    "# learn the 'vocabulary' of the training data\n",
    "vect.fit(X_train)\n"
   ]
  },
  {
   "cell_type": "code",
   "execution_count": 8,
   "metadata": {},
   "outputs": [
    {
     "data": {
      "text/plain": [
       "<360x11147 sparse matrix of type '<class 'numpy.int64'>'\n",
       "\twith 91496 stored elements in Compressed Sparse Row format>"
      ]
     },
     "execution_count": 8,
     "metadata": {},
     "output_type": "execute_result"
    }
   ],
   "source": [
    "# examine the fitted vocabulary\n",
    "vect.get_feature_names()[:50]\n",
    "train_vectors = vect.transform(X_train)\n",
    "train_vectors\n"
   ]
  },
  {
   "cell_type": "code",
   "execution_count": 9,
   "metadata": {},
   "outputs": [],
   "source": [
    "train_vectors\n",
    "test_vectors = vect.transform(X_test)\n"
   ]
  },
  {
   "cell_type": "code",
   "execution_count": 10,
   "metadata": {},
   "outputs": [
    {
     "data": {
      "text/html": [
       "<div>\n",
       "<style scoped>\n",
       "    .dataframe tbody tr th:only-of-type {\n",
       "        vertical-align: middle;\n",
       "    }\n",
       "\n",
       "    .dataframe tbody tr th {\n",
       "        vertical-align: top;\n",
       "    }\n",
       "\n",
       "    .dataframe thead th {\n",
       "        text-align: right;\n",
       "    }\n",
       "</style>\n",
       "<table border=\"1\" class=\"dataframe\">\n",
       "  <thead>\n",
       "    <tr style=\"text-align: right;\">\n",
       "      <th></th>\n",
       "      <th>00</th>\n",
       "      <th>000</th>\n",
       "      <th>0003</th>\n",
       "      <th>002</th>\n",
       "      <th>01</th>\n",
       "      <th>0100</th>\n",
       "      <th>0150</th>\n",
       "      <th>02</th>\n",
       "      <th>0210</th>\n",
       "      <th>03</th>\n",
       "      <th>...</th>\n",
       "      <th>zimmerman</th>\n",
       "      <th>zivnostenska</th>\n",
       "      <th>ziyang</th>\n",
       "      <th>zollars</th>\n",
       "      <th>zombies</th>\n",
       "      <th>zone</th>\n",
       "      <th>zong</th>\n",
       "      <th>zovirax</th>\n",
       "      <th>zubizarreta</th>\n",
       "      <th>zuckschwerdt</th>\n",
       "    </tr>\n",
       "  </thead>\n",
       "  <tbody>\n",
       "    <tr>\n",
       "      <td>0</td>\n",
       "      <td>0</td>\n",
       "      <td>0</td>\n",
       "      <td>0</td>\n",
       "      <td>0</td>\n",
       "      <td>0</td>\n",
       "      <td>0</td>\n",
       "      <td>0</td>\n",
       "      <td>0</td>\n",
       "      <td>0</td>\n",
       "      <td>0</td>\n",
       "      <td>...</td>\n",
       "      <td>0</td>\n",
       "      <td>0</td>\n",
       "      <td>0</td>\n",
       "      <td>0</td>\n",
       "      <td>0</td>\n",
       "      <td>0</td>\n",
       "      <td>0</td>\n",
       "      <td>0</td>\n",
       "      <td>0</td>\n",
       "      <td>0</td>\n",
       "    </tr>\n",
       "    <tr>\n",
       "      <td>1</td>\n",
       "      <td>0</td>\n",
       "      <td>1</td>\n",
       "      <td>0</td>\n",
       "      <td>0</td>\n",
       "      <td>0</td>\n",
       "      <td>0</td>\n",
       "      <td>0</td>\n",
       "      <td>0</td>\n",
       "      <td>0</td>\n",
       "      <td>0</td>\n",
       "      <td>...</td>\n",
       "      <td>0</td>\n",
       "      <td>0</td>\n",
       "      <td>0</td>\n",
       "      <td>0</td>\n",
       "      <td>0</td>\n",
       "      <td>0</td>\n",
       "      <td>0</td>\n",
       "      <td>0</td>\n",
       "      <td>0</td>\n",
       "      <td>0</td>\n",
       "    </tr>\n",
       "    <tr>\n",
       "      <td>2</td>\n",
       "      <td>0</td>\n",
       "      <td>0</td>\n",
       "      <td>0</td>\n",
       "      <td>0</td>\n",
       "      <td>0</td>\n",
       "      <td>0</td>\n",
       "      <td>0</td>\n",
       "      <td>0</td>\n",
       "      <td>0</td>\n",
       "      <td>0</td>\n",
       "      <td>...</td>\n",
       "      <td>0</td>\n",
       "      <td>0</td>\n",
       "      <td>0</td>\n",
       "      <td>0</td>\n",
       "      <td>0</td>\n",
       "      <td>0</td>\n",
       "      <td>0</td>\n",
       "      <td>0</td>\n",
       "      <td>0</td>\n",
       "      <td>0</td>\n",
       "    </tr>\n",
       "    <tr>\n",
       "      <td>3</td>\n",
       "      <td>0</td>\n",
       "      <td>0</td>\n",
       "      <td>0</td>\n",
       "      <td>0</td>\n",
       "      <td>0</td>\n",
       "      <td>0</td>\n",
       "      <td>0</td>\n",
       "      <td>0</td>\n",
       "      <td>0</td>\n",
       "      <td>0</td>\n",
       "      <td>...</td>\n",
       "      <td>0</td>\n",
       "      <td>0</td>\n",
       "      <td>0</td>\n",
       "      <td>0</td>\n",
       "      <td>0</td>\n",
       "      <td>0</td>\n",
       "      <td>0</td>\n",
       "      <td>0</td>\n",
       "      <td>0</td>\n",
       "      <td>0</td>\n",
       "    </tr>\n",
       "  </tbody>\n",
       "</table>\n",
       "<p>4 rows × 11147 columns</p>\n",
       "</div>"
      ],
      "text/plain": [
       "   00  000  0003  002  01  0100  0150  02  0210  03  ...  zimmerman  \\\n",
       "0   0    0     0    0   0     0     0   0     0   0  ...          0   \n",
       "1   0    1     0    0   0     0     0   0     0   0  ...          0   \n",
       "2   0    0     0    0   0     0     0   0     0   0  ...          0   \n",
       "3   0    0     0    0   0     0     0   0     0   0  ...          0   \n",
       "\n",
       "   zivnostenska  ziyang  zollars  zombies  zone  zong  zovirax  zubizarreta  \\\n",
       "0             0       0        0        0     0     0        0            0   \n",
       "1             0       0        0        0     0     0        0            0   \n",
       "2             0       0        0        0     0     0        0            0   \n",
       "3             0       0        0        0     0     0        0            0   \n",
       "\n",
       "   zuckschwerdt  \n",
       "0             0  \n",
       "1             0  \n",
       "2             0  \n",
       "3             0  \n",
       "\n",
       "[4 rows x 11147 columns]"
      ]
     },
     "execution_count": 10,
     "metadata": {},
     "output_type": "execute_result"
    }
   ],
   "source": [
    "test_vectors\n",
    "pd.DataFrame(train_vectors.toarray(), columns=vect.get_feature_names()).head(4)"
   ]
  },
  {
   "cell_type": "code",
   "execution_count": null,
   "metadata": {},
   "outputs": [],
   "source": []
  },
  {
   "cell_type": "code",
   "execution_count": 11,
   "metadata": {},
   "outputs": [
    {
     "data": {
      "text/plain": [
       "GaussianNB(priors=None, var_smoothing=1e-09)"
      ]
     },
     "execution_count": 11,
     "metadata": {},
     "output_type": "execute_result"
    }
   ],
   "source": [
    "from sklearn.naive_bayes import GaussianNB, MultinomialNB, BernoulliNB\n",
    "nb = GaussianNB()\n",
    "nb.fit(train_vectors.toarray(), y_train)"
   ]
  },
  {
   "cell_type": "code",
   "execution_count": 12,
   "metadata": {},
   "outputs": [
    {
     "name": "stderr",
     "output_type": "stream",
     "text": [
      "C:\\Users\\Admin\\AppData\\Local\\Continuum\\anaconda3\\lib\\site-packages\\sklearn\\model_selection\\_split.py:657: Warning: The least populated class in y has only 6 members, which is too few. The minimum number of members in any class cannot be less than n_splits=10.\n",
      "  % (min_groups, self.n_splits)), Warning)\n"
     ]
    },
    {
     "name": "stdout",
     "output_type": "stream",
     "text": [
      "                  precision    recall  f1-score   support\n",
      "\n",
      "   AaronPressman       1.00      0.56      0.71         9\n",
      "      AlanCrosby       0.93      1.00      0.96        13\n",
      "  AlexanderSmith       0.58      0.78      0.67         9\n",
      " BenjaminKangLim       1.00      1.00      1.00        11\n",
      "   BernardHickey       0.88      0.78      0.82         9\n",
      "     BradDorfman       0.78      0.70      0.74        10\n",
      "DarrenSchuettler       0.67      0.92      0.77        13\n",
      "     DavidLawder       1.00      0.83      0.91         6\n",
      "   EdnaFernandes       0.88      0.70      0.78        10\n",
      "\n",
      "        accuracy                           0.82        90\n",
      "       macro avg       0.86      0.81      0.82        90\n",
      "    weighted avg       0.85      0.82      0.82        90\n",
      "\n",
      "ACCURACY:: 0.8222222222222222\n"
     ]
    }
   ],
   "source": [
    "# generate your cross-validation prediction with 10 fold \n",
    "#Stratified sampling\n",
    "y_pred = cross_val_predict(nb, test_vectors.toarray(), y_test, cv=10)\n",
    "print(classification_report(y_test, y_pred))\n",
    "print(\"ACCURACY::\", accuracy_score(y_pred, y_test))"
   ]
  },
  {
   "cell_type": "code",
   "execution_count": 13,
   "metadata": {},
   "outputs": [],
   "source": [
    "def classifier():\n",
    "    X_train, X_test, y_train, y_test = train_test_split(trainX, labels, train_size = 0.8)\n",
    "    \n",
    "    # converting into pandas series\n",
    "    X_train = pd.Series(X_train)\n",
    "    X_test = pd.Series(X_test)\n",
    "    \n",
    "    vect.fit(X_train)\n",
    "    # examine the fitted vocabulary\n",
    "    \n",
    "    vect.get_feature_names()[:50]\n",
    "    train_vectors = vect.transform(X_train)\n",
    "    train_vectors\n",
    "    test_vectors = vect.transform(X_test)\n",
    "    test_vectors\n",
    "    pd.DataFrame(train_vectors.toarray(), columns=vect.get_feature_names()).head(4)\n",
    "    nb.fit(train_vectors.toarray(), y_train)\n",
    "    # generate your cross-validation prediction with 10 fold \n",
    "    #Stratified sampling\n",
    "    y_pred = cross_val_predict(nb, test_vectors.toarray(), y_test, cv=10)\n",
    "    print(classification_report(y_test, y_pred))\n",
    "    print(\"ACCURACY::\", accuracy_score(y_pred, y_test))"
   ]
  },
  {
   "cell_type": "code",
   "execution_count": 14,
   "metadata": {},
   "outputs": [],
   "source": [
    "# initializing Count Vector\n",
    "vect = CountVectorizer(ngram_range=(1, 2))\n"
   ]
  },
  {
   "cell_type": "code",
   "execution_count": 15,
   "metadata": {},
   "outputs": [
    {
     "name": "stderr",
     "output_type": "stream",
     "text": [
      "C:\\Users\\Admin\\AppData\\Local\\Continuum\\anaconda3\\lib\\site-packages\\sklearn\\model_selection\\_split.py:657: Warning: The least populated class in y has only 6 members, which is too few. The minimum number of members in any class cannot be less than n_splits=10.\n",
      "  % (min_groups, self.n_splits)), Warning)\n"
     ]
    },
    {
     "name": "stdout",
     "output_type": "stream",
     "text": [
      "                  precision    recall  f1-score   support\n",
      "\n",
      "   AaronPressman       0.83      0.91      0.87        11\n",
      "      AlanCrosby       0.80      0.89      0.84         9\n",
      "  AlexanderSmith       0.67      0.50      0.57         8\n",
      " BenjaminKangLim       1.00      0.75      0.86         8\n",
      "   BernardHickey       1.00      0.17      0.29         6\n",
      "     BradDorfman       0.90      0.69      0.78        13\n",
      "DarrenSchuettler       0.67      0.92      0.77        13\n",
      "     DavidLawder       0.80      0.89      0.84         9\n",
      "   EdnaFernandes       0.71      0.92      0.80        13\n",
      "\n",
      "        accuracy                           0.78        90\n",
      "       macro avg       0.82      0.74      0.74        90\n",
      "    weighted avg       0.80      0.78      0.76        90\n",
      "\n",
      "ACCURACY:: 0.7777777777777778\n"
     ]
    }
   ],
   "source": [
    "classifier()"
   ]
  },
  {
   "cell_type": "code",
   "execution_count": 66,
   "metadata": {},
   "outputs": [],
   "source": [
    "# initializing Count Vector\n",
    "vect = CountVectorizer(ngram_range=(1, 3))\n"
   ]
  },
  {
   "cell_type": "code",
   "execution_count": 67,
   "metadata": {},
   "outputs": [
    {
     "name": "stderr",
     "output_type": "stream",
     "text": [
      "/Users/sumit/opt/anaconda3/lib/python3.7/site-packages/sklearn/model_selection/_split.py:657: Warning: The least populated class in y has only 7 members, which is too few. The minimum number of members in any class cannot be less than n_splits=10.\n",
      "  % (min_groups, self.n_splits)), Warning)\n"
     ]
    },
    {
     "name": "stdout",
     "output_type": "stream",
     "text": [
      "                   precision    recall  f1-score   support\n",
      "\n",
      "    AaronPressman       1.00      0.80      0.89        10\n",
      "      EricAuchard       0.67      1.00      0.80        12\n",
      "         JoeOrtiz       1.00      0.75      0.86         8\n",
      "KouroshKarimkhany       0.90      0.82      0.86        11\n",
      "   LynneO'Donnell       0.93      1.00      0.96        13\n",
      "  LynnleyBrowning       0.82      0.90      0.86        10\n",
      "    MichaelConnor       0.88      0.64      0.74        11\n",
      "       RobinSidel       0.86      0.75      0.80         8\n",
      "      SimonCowell       0.88      1.00      0.93         7\n",
      "\n",
      "         accuracy                           0.86        90\n",
      "        macro avg       0.88      0.85      0.85        90\n",
      "     weighted avg       0.88      0.86      0.85        90\n",
      "\n",
      "ACCURACY:: 0.8555555555555555\n"
     ]
    }
   ],
   "source": [
    "classifier()"
   ]
  },
  {
   "cell_type": "code",
   "execution_count": 16,
   "metadata": {},
   "outputs": [],
   "source": [
    "# initializing Count Vector\n",
    "vect = CountVectorizer(ngram_range=(1, 2),stop_words=stop_words)"
   ]
  },
  {
   "cell_type": "code",
   "execution_count": 18,
   "metadata": {},
   "outputs": [
    {
     "name": "stderr",
     "output_type": "stream",
     "text": [
      "C:\\Users\\Admin\\AppData\\Local\\Continuum\\anaconda3\\lib\\site-packages\\sklearn\\model_selection\\_split.py:657: Warning: The least populated class in y has only 7 members, which is too few. The minimum number of members in any class cannot be less than n_splits=10.\n",
      "  % (min_groups, self.n_splits)), Warning)\n"
     ]
    },
    {
     "name": "stdout",
     "output_type": "stream",
     "text": [
      "                  precision    recall  f1-score   support\n",
      "\n",
      "   AaronPressman       1.00      0.75      0.86         8\n",
      "      AlanCrosby       0.88      0.70      0.78        10\n",
      "  AlexanderSmith       0.50      0.85      0.63        13\n",
      " BenjaminKangLim       1.00      1.00      1.00        11\n",
      "   BernardHickey       1.00      0.14      0.25         7\n",
      "     BradDorfman       0.75      0.60      0.67        10\n",
      "DarrenSchuettler       0.71      1.00      0.83        10\n",
      "     DavidLawder       0.79      0.92      0.85        12\n",
      "   EdnaFernandes       0.83      0.56      0.67         9\n",
      "\n",
      "        accuracy                           0.76        90\n",
      "       macro avg       0.83      0.72      0.73        90\n",
      "    weighted avg       0.81      0.76      0.74        90\n",
      "\n",
      "ACCURACY:: 0.7555555555555555\n"
     ]
    }
   ],
   "source": [
    "classifier()"
   ]
  },
  {
   "cell_type": "code",
   "execution_count": 70,
   "metadata": {},
   "outputs": [
    {
     "name": "stderr",
     "output_type": "stream",
     "text": [
      "/Users/sumit/opt/anaconda3/lib/python3.7/site-packages/sklearn/model_selection/_split.py:657: Warning: The least populated class in y has only 7 members, which is too few. The minimum number of members in any class cannot be less than n_splits=10.\n",
      "  % (min_groups, self.n_splits)), Warning)\n"
     ]
    },
    {
     "name": "stdout",
     "output_type": "stream",
     "text": [
      "                   precision    recall  f1-score   support\n",
      "\n",
      "    AaronPressman       0.79      0.92      0.85        12\n",
      "      EricAuchard       0.40      0.29      0.33         7\n",
      "         JoeOrtiz       0.75      0.43      0.55         7\n",
      "KouroshKarimkhany       0.70      0.78      0.74         9\n",
      "   LynneO'Donnell       0.89      1.00      0.94         8\n",
      "  LynnleyBrowning       1.00      1.00      1.00         9\n",
      "    MichaelConnor       0.67      0.67      0.67        12\n",
      "       RobinSidel       1.00      0.70      0.82        10\n",
      "      SimonCowell       0.75      0.94      0.83        16\n",
      "\n",
      "         accuracy                           0.78        90\n",
      "        macro avg       0.77      0.75      0.75        90\n",
      "     weighted avg       0.78      0.78      0.77        90\n",
      "\n",
      "ACCURACY:: 0.7777777777777778\n"
     ]
    }
   ],
   "source": [
    "vect = CountVectorizer(ngram_range=(1, 2),stop_words=stop_words, max_df=0.7)\n",
    "classifer()"
   ]
  },
  {
   "cell_type": "code",
   "execution_count": 20,
   "metadata": {},
   "outputs": [
    {
     "name": "stderr",
     "output_type": "stream",
     "text": [
      "C:\\Users\\Admin\\AppData\\Local\\Continuum\\anaconda3\\lib\\site-packages\\sklearn\\model_selection\\_split.py:657: Warning: The least populated class in y has only 5 members, which is too few. The minimum number of members in any class cannot be less than n_splits=10.\n",
      "  % (min_groups, self.n_splits)), Warning)\n"
     ]
    },
    {
     "name": "stdout",
     "output_type": "stream",
     "text": [
      "                  precision    recall  f1-score   support\n",
      "\n",
      "   AaronPressman       0.80      0.89      0.84         9\n",
      "      AlanCrosby       1.00      0.80      0.89        10\n",
      "  AlexanderSmith       0.33      0.20      0.25         5\n",
      " BenjaminKangLim       0.87      0.93      0.90        14\n",
      "   BernardHickey       0.88      0.64      0.74        11\n",
      "     BradDorfman       0.44      0.62      0.52        13\n",
      "DarrenSchuettler       0.83      0.62      0.71         8\n",
      "     DavidLawder       0.89      0.80      0.84        10\n",
      "   EdnaFernandes       0.62      0.80      0.70        10\n",
      "\n",
      "        accuracy                           0.73        90\n",
      "       macro avg       0.74      0.70      0.71        90\n",
      "    weighted avg       0.76      0.73      0.74        90\n",
      "\n",
      "ACCURACY:: 0.7333333333333333\n"
     ]
    }
   ],
   "source": [
    "vect = CountVectorizer(ngram_range=(1, 2),stop_words=stop_words, max_df=0.75)\n",
    "classifier()"
   ]
  },
  {
   "cell_type": "code",
   "execution_count": 22,
   "metadata": {},
   "outputs": [
    {
     "name": "stderr",
     "output_type": "stream",
     "text": [
      "C:\\Users\\Admin\\AppData\\Local\\Continuum\\anaconda3\\lib\\site-packages\\sklearn\\model_selection\\_split.py:657: Warning: The least populated class in y has only 5 members, which is too few. The minimum number of members in any class cannot be less than n_splits=10.\n",
      "  % (min_groups, self.n_splits)), Warning)\n"
     ]
    },
    {
     "name": "stdout",
     "output_type": "stream",
     "text": [
      "                  precision    recall  f1-score   support\n",
      "\n",
      "   AaronPressman       0.92      1.00      0.96        12\n",
      "      AlanCrosby       1.00      0.89      0.94         9\n",
      "  AlexanderSmith       0.20      0.20      0.20        10\n",
      " BenjaminKangLim       1.00      1.00      1.00        12\n",
      "   BernardHickey       0.65      0.85      0.73        13\n",
      "     BradDorfman       0.80      0.44      0.57         9\n",
      "DarrenSchuettler       1.00      0.40      0.57         5\n",
      "     DavidLawder       1.00      1.00      1.00         7\n",
      "   EdnaFernandes       0.62      0.77      0.69        13\n",
      "\n",
      "        accuracy                           0.76        90\n",
      "       macro avg       0.80      0.73      0.74        90\n",
      "    weighted avg       0.78      0.76      0.75        90\n",
      "\n",
      "ACCURACY:: 0.7555555555555555\n"
     ]
    }
   ],
   "source": [
    "vect = CountVectorizer(ngram_range=(1, 2),stop_words=stop_words, max_df=0.8)\n",
    "classifier()"
   ]
  },
  {
   "cell_type": "code",
   "execution_count": 23,
   "metadata": {},
   "outputs": [
    {
     "name": "stderr",
     "output_type": "stream",
     "text": [
      "C:\\Users\\Admin\\AppData\\Local\\Continuum\\anaconda3\\lib\\site-packages\\sklearn\\model_selection\\_split.py:657: Warning: The least populated class in y has only 7 members, which is too few. The minimum number of members in any class cannot be less than n_splits=10.\n",
      "  % (min_groups, self.n_splits)), Warning)\n"
     ]
    },
    {
     "name": "stdout",
     "output_type": "stream",
     "text": [
      "                  precision    recall  f1-score   support\n",
      "\n",
      "   AaronPressman       1.00      1.00      1.00        10\n",
      "      AlanCrosby       1.00      1.00      1.00        10\n",
      "  AlexanderSmith       0.55      0.67      0.60         9\n",
      " BenjaminKangLim       1.00      0.90      0.95        10\n",
      "   BernardHickey       0.83      0.62      0.71         8\n",
      "     BradDorfman       0.71      0.67      0.69        15\n",
      "DarrenSchuettler       0.86      0.92      0.89        13\n",
      "     DavidLawder       0.50      0.71      0.59         7\n",
      "   EdnaFernandes       0.83      0.62      0.71         8\n",
      "\n",
      "        accuracy                           0.80        90\n",
      "       macro avg       0.81      0.79      0.79        90\n",
      "    weighted avg       0.82      0.80      0.80        90\n",
      "\n",
      "ACCURACY:: 0.8\n"
     ]
    }
   ],
   "source": [
    "vect = CountVectorizer(ngram_range=(1, 3),stop_words=stop_words, max_df=0.7)\n",
    "classifier()"
   ]
  },
  {
   "cell_type": "code",
   "execution_count": 24,
   "metadata": {},
   "outputs": [
    {
     "name": "stderr",
     "output_type": "stream",
     "text": [
      "C:\\Users\\Admin\\AppData\\Local\\Continuum\\anaconda3\\lib\\site-packages\\sklearn\\model_selection\\_split.py:657: Warning: The least populated class in y has only 4 members, which is too few. The minimum number of members in any class cannot be less than n_splits=10.\n",
      "  % (min_groups, self.n_splits)), Warning)\n"
     ]
    },
    {
     "name": "stdout",
     "output_type": "stream",
     "text": [
      "                  precision    recall  f1-score   support\n",
      "\n",
      "   AaronPressman       1.00      0.88      0.93         8\n",
      "      AlanCrosby       0.83      0.91      0.87        11\n",
      "  AlexanderSmith       1.00      0.50      0.67         4\n",
      " BenjaminKangLim       1.00      0.90      0.95        10\n",
      "   BernardHickey       0.80      0.67      0.73        12\n",
      "     BradDorfman       0.56      0.82      0.67        11\n",
      "DarrenSchuettler       0.56      0.75      0.64        12\n",
      "     DavidLawder       0.92      0.92      0.92        12\n",
      "   EdnaFernandes       1.00      0.60      0.75        10\n",
      "\n",
      "        accuracy                           0.79        90\n",
      "       macro avg       0.85      0.77      0.79        90\n",
      "    weighted avg       0.83      0.79      0.79        90\n",
      "\n",
      "ACCURACY:: 0.7888888888888889\n"
     ]
    }
   ],
   "source": [
    "vect = CountVectorizer(ngram_range=(1, 3),stop_words=stop_words, max_df=0.75)\n",
    "classifier()"
   ]
  },
  {
   "cell_type": "code",
   "execution_count": 25,
   "metadata": {},
   "outputs": [
    {
     "name": "stderr",
     "output_type": "stream",
     "text": [
      "C:\\Users\\Admin\\AppData\\Local\\Continuum\\anaconda3\\lib\\site-packages\\sklearn\\model_selection\\_split.py:657: Warning: The least populated class in y has only 3 members, which is too few. The minimum number of members in any class cannot be less than n_splits=10.\n",
      "  % (min_groups, self.n_splits)), Warning)\n"
     ]
    },
    {
     "name": "stdout",
     "output_type": "stream",
     "text": [
      "                  precision    recall  f1-score   support\n",
      "\n",
      "   AaronPressman       0.70      1.00      0.82        14\n",
      "      AlanCrosby       0.88      0.78      0.82         9\n",
      "  AlexanderSmith       1.00      0.38      0.55         8\n",
      " BenjaminKangLim       0.92      0.92      0.92        13\n",
      "   BernardHickey       0.80      0.44      0.57         9\n",
      "     BradDorfman       0.73      0.62      0.67        13\n",
      "DarrenSchuettler       0.55      1.00      0.71        12\n",
      "     DavidLawder       1.00      0.67      0.80         3\n",
      "   EdnaFernandes       1.00      0.67      0.80         9\n",
      "\n",
      "        accuracy                           0.76        90\n",
      "       macro avg       0.84      0.72      0.74        90\n",
      "    weighted avg       0.81      0.76      0.75        90\n",
      "\n",
      "ACCURACY:: 0.7555555555555555\n"
     ]
    }
   ],
   "source": [
    "vect = CountVectorizer(ngram_range=(1, 3),stop_words=stop_words, max_df=0.8)\n",
    "classifier()"
   ]
  },
  {
   "cell_type": "code",
   "execution_count": 27,
   "metadata": {},
   "outputs": [
    {
     "name": "stderr",
     "output_type": "stream",
     "text": [
      "C:\\Users\\Admin\\AppData\\Local\\Continuum\\anaconda3\\lib\\site-packages\\sklearn\\model_selection\\_split.py:657: Warning: The least populated class in y has only 7 members, which is too few. The minimum number of members in any class cannot be less than n_splits=10.\n",
      "  % (min_groups, self.n_splits)), Warning)\n"
     ]
    },
    {
     "name": "stdout",
     "output_type": "stream",
     "text": [
      "                  precision    recall  f1-score   support\n",
      "\n",
      "   AaronPressman       1.00      0.71      0.83         7\n",
      "      AlanCrosby       1.00      1.00      1.00        10\n",
      "  AlexanderSmith       0.82      1.00      0.90         9\n",
      " BenjaminKangLim       0.93      0.93      0.93        14\n",
      "   BernardHickey       0.90      0.90      0.90        10\n",
      "     BradDorfman       0.75      0.86      0.80        14\n",
      "DarrenSchuettler       0.86      0.75      0.80         8\n",
      "     DavidLawder       0.88      0.88      0.88         8\n",
      "   EdnaFernandes       0.89      0.80      0.84        10\n",
      "\n",
      "        accuracy                           0.88        90\n",
      "       macro avg       0.89      0.87      0.88        90\n",
      "    weighted avg       0.88      0.88      0.88        90\n",
      "\n",
      "ACCURACY:: 0.8777777777777778\n"
     ]
    }
   ],
   "source": [
    "tf = TfidfVectorizer()\n",
    "classifier()"
   ]
  },
  {
   "cell_type": "code",
   "execution_count": null,
   "metadata": {},
   "outputs": [],
   "source": []
  }
 ],
 "metadata": {
  "kernelspec": {
   "display_name": "Python 3",
   "language": "python",
   "name": "python3"
  },
  "language_info": {
   "codemirror_mode": {
    "name": "ipython",
    "version": 3
   },
   "file_extension": ".py",
   "mimetype": "text/x-python",
   "name": "python",
   "nbconvert_exporter": "python",
   "pygments_lexer": "ipython3",
   "version": "3.7.3"
  }
 },
 "nbformat": 4,
 "nbformat_minor": 2
}
